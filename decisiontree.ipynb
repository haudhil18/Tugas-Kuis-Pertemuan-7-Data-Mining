{
  "nbformat": 4,
  "nbformat_minor": 0,
  "metadata": {
    "colab": {
      "name": "decisiontree.ipynb",
      "provenance": [],
      "collapsed_sections": []
    },
    "kernelspec": {
      "name": "python3",
      "display_name": "Python 3"
    },
    "language_info": {
      "name": "python"
    }
  },
  "cells": [
    {
      "cell_type": "code",
      "metadata": {
        "id": "RpBjhFaXw02n"
      },
      "source": [
        "import numpy as np\n",
        "import pandas as pd\n",
        "from sklearn import tree"
      ],
      "execution_count": 1,
      "outputs": []
    },
    {
      "cell_type": "code",
      "metadata": {
        "id": "6qS4GYZZyhSi"
      },
      "source": [
        "DataSet = pd.read_csv('Mechine Learning with Iris.csv',delimiter=',', header =0)"
      ],
      "execution_count": 2,
      "outputs": []
    },
    {
      "cell_type": "code",
      "metadata": {
        "colab": {
          "base_uri": "https://localhost:8080/",
          "height": 195
        },
        "id": "EXyzUPvUzkcv",
        "outputId": "3b5c0471-583b-428c-9327-ee171be71123"
      },
      "source": [
        "DataSet.head()"
      ],
      "execution_count": 3,
      "outputs": [
        {
          "output_type": "execute_result",
          "data": {
            "text/html": [
              "<div>\n",
              "<style scoped>\n",
              "    .dataframe tbody tr th:only-of-type {\n",
              "        vertical-align: middle;\n",
              "    }\n",
              "\n",
              "    .dataframe tbody tr th {\n",
              "        vertical-align: top;\n",
              "    }\n",
              "\n",
              "    .dataframe thead th {\n",
              "        text-align: right;\n",
              "    }\n",
              "</style>\n",
              "<table border=\"1\" class=\"dataframe\">\n",
              "  <thead>\n",
              "    <tr style=\"text-align: right;\">\n",
              "      <th></th>\n",
              "      <th>Id</th>\n",
              "      <th>SepalLengthCm</th>\n",
              "      <th>SepalWidthCm</th>\n",
              "      <th>PetalLengthCm</th>\n",
              "      <th>PetalWidthCm</th>\n",
              "      <th>Species</th>\n",
              "    </tr>\n",
              "  </thead>\n",
              "  <tbody>\n",
              "    <tr>\n",
              "      <th>0</th>\n",
              "      <td>1</td>\n",
              "      <td>5.1</td>\n",
              "      <td>3.5</td>\n",
              "      <td>1.4</td>\n",
              "      <td>0.2</td>\n",
              "      <td>Iris-setosa</td>\n",
              "    </tr>\n",
              "    <tr>\n",
              "      <th>1</th>\n",
              "      <td>2</td>\n",
              "      <td>4.9</td>\n",
              "      <td>3.0</td>\n",
              "      <td>1.4</td>\n",
              "      <td>0.2</td>\n",
              "      <td>Iris-setosa</td>\n",
              "    </tr>\n",
              "    <tr>\n",
              "      <th>2</th>\n",
              "      <td>3</td>\n",
              "      <td>4.7</td>\n",
              "      <td>3.2</td>\n",
              "      <td>1.3</td>\n",
              "      <td>0.2</td>\n",
              "      <td>Iris-setosa</td>\n",
              "    </tr>\n",
              "    <tr>\n",
              "      <th>3</th>\n",
              "      <td>4</td>\n",
              "      <td>4.6</td>\n",
              "      <td>3.1</td>\n",
              "      <td>1.5</td>\n",
              "      <td>0.2</td>\n",
              "      <td>Iris-setosa</td>\n",
              "    </tr>\n",
              "    <tr>\n",
              "      <th>4</th>\n",
              "      <td>5</td>\n",
              "      <td>5.0</td>\n",
              "      <td>3.6</td>\n",
              "      <td>1.4</td>\n",
              "      <td>0.2</td>\n",
              "      <td>Iris-setosa</td>\n",
              "    </tr>\n",
              "  </tbody>\n",
              "</table>\n",
              "</div>"
            ],
            "text/plain": [
              "   Id  SepalLengthCm  SepalWidthCm  PetalLengthCm  PetalWidthCm      Species\n",
              "0   1            5.1           3.5            1.4           0.2  Iris-setosa\n",
              "1   2            4.9           3.0            1.4           0.2  Iris-setosa\n",
              "2   3            4.7           3.2            1.3           0.2  Iris-setosa\n",
              "3   4            4.6           3.1            1.5           0.2  Iris-setosa\n",
              "4   5            5.0           3.6            1.4           0.2  Iris-setosa"
            ]
          },
          "metadata": {
            "tags": []
          },
          "execution_count": 3
        }
      ]
    },
    {
      "cell_type": "code",
      "metadata": {
        "id": "F8fbaVYB0oLw"
      },
      "source": [
        "DataSet[\"Species\"] = pd.factorize(DataSet.Species)[0]"
      ],
      "execution_count": 4,
      "outputs": []
    },
    {
      "cell_type": "code",
      "metadata": {
        "colab": {
          "base_uri": "https://localhost:8080/",
          "height": 195
        },
        "id": "biE5u74J1-yb",
        "outputId": "3e29a4ec-c05a-4e4b-beab-671af143cccc"
      },
      "source": [
        "DataSet.head()"
      ],
      "execution_count": 5,
      "outputs": [
        {
          "output_type": "execute_result",
          "data": {
            "text/html": [
              "<div>\n",
              "<style scoped>\n",
              "    .dataframe tbody tr th:only-of-type {\n",
              "        vertical-align: middle;\n",
              "    }\n",
              "\n",
              "    .dataframe tbody tr th {\n",
              "        vertical-align: top;\n",
              "    }\n",
              "\n",
              "    .dataframe thead th {\n",
              "        text-align: right;\n",
              "    }\n",
              "</style>\n",
              "<table border=\"1\" class=\"dataframe\">\n",
              "  <thead>\n",
              "    <tr style=\"text-align: right;\">\n",
              "      <th></th>\n",
              "      <th>Id</th>\n",
              "      <th>SepalLengthCm</th>\n",
              "      <th>SepalWidthCm</th>\n",
              "      <th>PetalLengthCm</th>\n",
              "      <th>PetalWidthCm</th>\n",
              "      <th>Species</th>\n",
              "    </tr>\n",
              "  </thead>\n",
              "  <tbody>\n",
              "    <tr>\n",
              "      <th>0</th>\n",
              "      <td>1</td>\n",
              "      <td>5.1</td>\n",
              "      <td>3.5</td>\n",
              "      <td>1.4</td>\n",
              "      <td>0.2</td>\n",
              "      <td>0</td>\n",
              "    </tr>\n",
              "    <tr>\n",
              "      <th>1</th>\n",
              "      <td>2</td>\n",
              "      <td>4.9</td>\n",
              "      <td>3.0</td>\n",
              "      <td>1.4</td>\n",
              "      <td>0.2</td>\n",
              "      <td>0</td>\n",
              "    </tr>\n",
              "    <tr>\n",
              "      <th>2</th>\n",
              "      <td>3</td>\n",
              "      <td>4.7</td>\n",
              "      <td>3.2</td>\n",
              "      <td>1.3</td>\n",
              "      <td>0.2</td>\n",
              "      <td>0</td>\n",
              "    </tr>\n",
              "    <tr>\n",
              "      <th>3</th>\n",
              "      <td>4</td>\n",
              "      <td>4.6</td>\n",
              "      <td>3.1</td>\n",
              "      <td>1.5</td>\n",
              "      <td>0.2</td>\n",
              "      <td>0</td>\n",
              "    </tr>\n",
              "    <tr>\n",
              "      <th>4</th>\n",
              "      <td>5</td>\n",
              "      <td>5.0</td>\n",
              "      <td>3.6</td>\n",
              "      <td>1.4</td>\n",
              "      <td>0.2</td>\n",
              "      <td>0</td>\n",
              "    </tr>\n",
              "  </tbody>\n",
              "</table>\n",
              "</div>"
            ],
            "text/plain": [
              "   Id  SepalLengthCm  SepalWidthCm  PetalLengthCm  PetalWidthCm  Species\n",
              "0   1            5.1           3.5            1.4           0.2        0\n",
              "1   2            4.9           3.0            1.4           0.2        0\n",
              "2   3            4.7           3.2            1.3           0.2        0\n",
              "3   4            4.6           3.1            1.5           0.2        0\n",
              "4   5            5.0           3.6            1.4           0.2        0"
            ]
          },
          "metadata": {
            "tags": []
          },
          "execution_count": 5
        }
      ]
    },
    {
      "cell_type": "code",
      "metadata": {
        "colab": {
          "base_uri": "https://localhost:8080/"
        },
        "id": "n5-z-jAi2Mwm",
        "outputId": "dfc30257-7a93-4c7e-b562-79f85c49602e"
      },
      "source": [
        "print(DataSet)"
      ],
      "execution_count": 6,
      "outputs": [
        {
          "output_type": "stream",
          "text": [
            "     Id  SepalLengthCm  SepalWidthCm  PetalLengthCm  PetalWidthCm  Species\n",
            "0     1            5.1           3.5            1.4           0.2        0\n",
            "1     2            4.9           3.0            1.4           0.2        0\n",
            "2     3            4.7           3.2            1.3           0.2        0\n",
            "3     4            4.6           3.1            1.5           0.2        0\n",
            "4     5            5.0           3.6            1.4           0.2        0\n",
            "..  ...            ...           ...            ...           ...      ...\n",
            "95   96            6.7           3.0            5.2           2.3        1\n",
            "96   97            6.3           2.5            5.0           1.9        1\n",
            "97   98            6.5           3.0            5.2           2.0        1\n",
            "98   99            6.2           3.4            5.4           2.3        1\n",
            "99  100            5.9           3.0            5.1           1.8        1\n",
            "\n",
            "[100 rows x 6 columns]\n"
          ],
          "name": "stdout"
        }
      ]
    },
    {
      "cell_type": "code",
      "metadata": {
        "id": "kQD3XX1t2dQu"
      },
      "source": [
        "DataSet = DataSet.drop(labels=\"Id\", axis=1)"
      ],
      "execution_count": 7,
      "outputs": []
    },
    {
      "cell_type": "code",
      "metadata": {
        "colab": {
          "base_uri": "https://localhost:8080/"
        },
        "id": "L6iJbvnE2n_i",
        "outputId": "901fb0c7-d58e-4cd3-e3db-17c0a64f796f"
      },
      "source": [
        "print(DataSet)"
      ],
      "execution_count": 8,
      "outputs": [
        {
          "output_type": "stream",
          "text": [
            "    SepalLengthCm  SepalWidthCm  PetalLengthCm  PetalWidthCm  Species\n",
            "0             5.1           3.5            1.4           0.2        0\n",
            "1             4.9           3.0            1.4           0.2        0\n",
            "2             4.7           3.2            1.3           0.2        0\n",
            "3             4.6           3.1            1.5           0.2        0\n",
            "4             5.0           3.6            1.4           0.2        0\n",
            "..            ...           ...            ...           ...      ...\n",
            "95            6.7           3.0            5.2           2.3        1\n",
            "96            6.3           2.5            5.0           1.9        1\n",
            "97            6.5           3.0            5.2           2.0        1\n",
            "98            6.2           3.4            5.4           2.3        1\n",
            "99            5.9           3.0            5.1           1.8        1\n",
            "\n",
            "[100 rows x 5 columns]\n"
          ],
          "name": "stdout"
        }
      ]
    },
    {
      "cell_type": "code",
      "metadata": {
        "id": "-n5ho3nU206O"
      },
      "source": [
        "DataSet = DataSet.to_numpy()"
      ],
      "execution_count": 9,
      "outputs": []
    },
    {
      "cell_type": "code",
      "metadata": {
        "colab": {
          "base_uri": "https://localhost:8080/"
        },
        "id": "9Ss9aMbB26vi",
        "outputId": "ecddce10-3067-4ba3-95a9-0bb13c28034c"
      },
      "source": [
        "print(DataSet)"
      ],
      "execution_count": 10,
      "outputs": [
        {
          "output_type": "stream",
          "text": [
            "[[5.1 3.5 1.4 0.2 0. ]\n",
            " [4.9 3.  1.4 0.2 0. ]\n",
            " [4.7 3.2 1.3 0.2 0. ]\n",
            " [4.6 3.1 1.5 0.2 0. ]\n",
            " [5.  3.6 1.4 0.2 0. ]\n",
            " [5.4 3.9 1.7 0.4 0. ]\n",
            " [4.6 3.4 1.4 0.3 0. ]\n",
            " [5.  3.4 1.5 0.2 0. ]\n",
            " [4.4 2.9 1.4 0.2 0. ]\n",
            " [4.9 3.1 1.5 0.1 0. ]\n",
            " [5.4 3.7 1.5 0.2 0. ]\n",
            " [4.8 3.4 1.6 0.2 0. ]\n",
            " [4.8 3.  1.4 0.1 0. ]\n",
            " [4.3 3.  1.1 0.1 0. ]\n",
            " [5.8 4.  1.2 0.2 0. ]\n",
            " [5.7 4.4 1.5 0.4 0. ]\n",
            " [5.4 3.9 1.3 0.4 0. ]\n",
            " [5.1 3.5 1.4 0.3 0. ]\n",
            " [5.7 3.8 1.7 0.3 0. ]\n",
            " [5.1 3.8 1.5 0.3 0. ]\n",
            " [5.4 3.4 1.7 0.2 0. ]\n",
            " [5.1 3.7 1.5 0.4 0. ]\n",
            " [4.6 3.6 1.  0.2 0. ]\n",
            " [5.1 3.3 1.7 0.5 0. ]\n",
            " [4.8 3.4 1.9 0.2 0. ]\n",
            " [5.  3.  1.6 0.2 0. ]\n",
            " [5.  3.4 1.6 0.4 0. ]\n",
            " [5.2 3.5 1.5 0.2 0. ]\n",
            " [5.2 3.4 1.4 0.2 0. ]\n",
            " [4.7 3.2 1.6 0.2 0. ]\n",
            " [4.8 3.1 1.6 0.2 0. ]\n",
            " [5.4 3.4 1.5 0.4 0. ]\n",
            " [5.2 4.1 1.5 0.1 0. ]\n",
            " [5.5 4.2 1.4 0.2 0. ]\n",
            " [4.9 3.1 1.5 0.1 0. ]\n",
            " [5.  3.2 1.2 0.2 0. ]\n",
            " [5.5 3.5 1.3 0.2 0. ]\n",
            " [4.9 3.1 1.5 0.1 0. ]\n",
            " [4.4 3.  1.3 0.2 0. ]\n",
            " [5.1 3.4 1.5 0.2 0. ]\n",
            " [5.  3.5 1.3 0.3 0. ]\n",
            " [4.5 2.3 1.3 0.3 0. ]\n",
            " [4.4 3.2 1.3 0.2 0. ]\n",
            " [5.  3.5 1.6 0.6 0. ]\n",
            " [5.1 3.8 1.9 0.4 0. ]\n",
            " [4.8 3.  1.4 0.3 0. ]\n",
            " [5.1 3.8 1.6 0.2 0. ]\n",
            " [4.6 3.2 1.4 0.2 0. ]\n",
            " [5.3 3.7 1.5 0.2 0. ]\n",
            " [5.  3.3 1.4 0.2 0. ]\n",
            " [6.3 3.3 6.  2.5 1. ]\n",
            " [5.8 2.7 5.1 1.9 1. ]\n",
            " [7.1 3.  5.9 2.1 1. ]\n",
            " [6.3 2.9 5.6 1.8 1. ]\n",
            " [6.5 3.  5.8 2.2 1. ]\n",
            " [7.6 3.  6.6 2.1 1. ]\n",
            " [4.9 2.5 4.5 1.7 1. ]\n",
            " [7.3 2.9 6.3 1.8 1. ]\n",
            " [6.7 2.5 5.8 1.8 1. ]\n",
            " [7.2 3.6 6.1 2.5 1. ]\n",
            " [6.5 3.2 5.1 2.  1. ]\n",
            " [6.4 2.7 5.3 1.9 1. ]\n",
            " [6.8 3.  5.5 2.1 1. ]\n",
            " [5.7 2.5 5.  2.  1. ]\n",
            " [5.8 2.8 5.1 2.4 1. ]\n",
            " [6.4 3.2 5.3 2.3 1. ]\n",
            " [6.5 3.  5.5 1.8 1. ]\n",
            " [7.7 3.8 6.7 2.2 1. ]\n",
            " [7.7 2.6 6.9 2.3 1. ]\n",
            " [6.  2.2 5.  1.5 1. ]\n",
            " [6.9 3.2 5.7 2.3 1. ]\n",
            " [5.6 2.8 4.9 2.  1. ]\n",
            " [7.7 2.8 6.7 2.  1. ]\n",
            " [6.3 2.7 4.9 1.8 1. ]\n",
            " [6.7 3.3 5.7 2.1 1. ]\n",
            " [7.2 3.2 6.  1.8 1. ]\n",
            " [6.2 2.8 4.8 1.8 1. ]\n",
            " [6.1 3.  4.9 1.8 1. ]\n",
            " [6.4 2.8 5.6 2.1 1. ]\n",
            " [7.2 3.  5.8 1.6 1. ]\n",
            " [7.4 2.8 6.1 1.9 1. ]\n",
            " [7.9 3.8 6.4 2.  1. ]\n",
            " [6.4 2.8 5.6 2.2 1. ]\n",
            " [6.3 2.8 5.1 1.5 1. ]\n",
            " [6.1 2.6 5.6 1.4 1. ]\n",
            " [7.7 3.  6.1 2.3 1. ]\n",
            " [6.3 3.4 5.6 2.4 1. ]\n",
            " [6.4 3.1 5.5 1.8 1. ]\n",
            " [6.  3.  4.8 1.8 1. ]\n",
            " [6.9 3.1 5.4 2.1 1. ]\n",
            " [6.7 3.1 5.6 2.4 1. ]\n",
            " [6.9 3.1 5.1 2.3 1. ]\n",
            " [5.8 2.7 5.1 1.9 1. ]\n",
            " [6.8 3.2 5.9 2.3 1. ]\n",
            " [6.7 3.3 5.7 2.5 1. ]\n",
            " [6.7 3.  5.2 2.3 1. ]\n",
            " [6.3 2.5 5.  1.9 1. ]\n",
            " [6.5 3.  5.2 2.  1. ]\n",
            " [6.2 3.4 5.4 2.3 1. ]\n",
            " [5.9 3.  5.1 1.8 1. ]]\n"
          ],
          "name": "stdout"
        }
      ]
    },
    {
      "cell_type": "code",
      "metadata": {
        "id": "KlOG6UBh2_V_"
      },
      "source": [
        "dataTraining = np.concatenate((DataSet[0:40,:], DataSet[50:90,:]),axis = 0)\n",
        "dataTesting = np.concatenate((DataSet[40:50,:], DataSet[90:100,:]),axis = 0)"
      ],
      "execution_count": 11,
      "outputs": []
    },
    {
      "cell_type": "code",
      "metadata": {
        "colab": {
          "base_uri": "https://localhost:8080/"
        },
        "id": "CIc_tGu33yvT",
        "outputId": "7821ba2e-eb30-4116-91f3-ac8ec596ebba"
      },
      "source": [
        "print(dataTraining)\n",
        "len(dataTraining)"
      ],
      "execution_count": 12,
      "outputs": [
        {
          "output_type": "stream",
          "text": [
            "[[5.1 3.5 1.4 0.2 0. ]\n",
            " [4.9 3.  1.4 0.2 0. ]\n",
            " [4.7 3.2 1.3 0.2 0. ]\n",
            " [4.6 3.1 1.5 0.2 0. ]\n",
            " [5.  3.6 1.4 0.2 0. ]\n",
            " [5.4 3.9 1.7 0.4 0. ]\n",
            " [4.6 3.4 1.4 0.3 0. ]\n",
            " [5.  3.4 1.5 0.2 0. ]\n",
            " [4.4 2.9 1.4 0.2 0. ]\n",
            " [4.9 3.1 1.5 0.1 0. ]\n",
            " [5.4 3.7 1.5 0.2 0. ]\n",
            " [4.8 3.4 1.6 0.2 0. ]\n",
            " [4.8 3.  1.4 0.1 0. ]\n",
            " [4.3 3.  1.1 0.1 0. ]\n",
            " [5.8 4.  1.2 0.2 0. ]\n",
            " [5.7 4.4 1.5 0.4 0. ]\n",
            " [5.4 3.9 1.3 0.4 0. ]\n",
            " [5.1 3.5 1.4 0.3 0. ]\n",
            " [5.7 3.8 1.7 0.3 0. ]\n",
            " [5.1 3.8 1.5 0.3 0. ]\n",
            " [5.4 3.4 1.7 0.2 0. ]\n",
            " [5.1 3.7 1.5 0.4 0. ]\n",
            " [4.6 3.6 1.  0.2 0. ]\n",
            " [5.1 3.3 1.7 0.5 0. ]\n",
            " [4.8 3.4 1.9 0.2 0. ]\n",
            " [5.  3.  1.6 0.2 0. ]\n",
            " [5.  3.4 1.6 0.4 0. ]\n",
            " [5.2 3.5 1.5 0.2 0. ]\n",
            " [5.2 3.4 1.4 0.2 0. ]\n",
            " [4.7 3.2 1.6 0.2 0. ]\n",
            " [4.8 3.1 1.6 0.2 0. ]\n",
            " [5.4 3.4 1.5 0.4 0. ]\n",
            " [5.2 4.1 1.5 0.1 0. ]\n",
            " [5.5 4.2 1.4 0.2 0. ]\n",
            " [4.9 3.1 1.5 0.1 0. ]\n",
            " [5.  3.2 1.2 0.2 0. ]\n",
            " [5.5 3.5 1.3 0.2 0. ]\n",
            " [4.9 3.1 1.5 0.1 0. ]\n",
            " [4.4 3.  1.3 0.2 0. ]\n",
            " [5.1 3.4 1.5 0.2 0. ]\n",
            " [6.3 3.3 6.  2.5 1. ]\n",
            " [5.8 2.7 5.1 1.9 1. ]\n",
            " [7.1 3.  5.9 2.1 1. ]\n",
            " [6.3 2.9 5.6 1.8 1. ]\n",
            " [6.5 3.  5.8 2.2 1. ]\n",
            " [7.6 3.  6.6 2.1 1. ]\n",
            " [4.9 2.5 4.5 1.7 1. ]\n",
            " [7.3 2.9 6.3 1.8 1. ]\n",
            " [6.7 2.5 5.8 1.8 1. ]\n",
            " [7.2 3.6 6.1 2.5 1. ]\n",
            " [6.5 3.2 5.1 2.  1. ]\n",
            " [6.4 2.7 5.3 1.9 1. ]\n",
            " [6.8 3.  5.5 2.1 1. ]\n",
            " [5.7 2.5 5.  2.  1. ]\n",
            " [5.8 2.8 5.1 2.4 1. ]\n",
            " [6.4 3.2 5.3 2.3 1. ]\n",
            " [6.5 3.  5.5 1.8 1. ]\n",
            " [7.7 3.8 6.7 2.2 1. ]\n",
            " [7.7 2.6 6.9 2.3 1. ]\n",
            " [6.  2.2 5.  1.5 1. ]\n",
            " [6.9 3.2 5.7 2.3 1. ]\n",
            " [5.6 2.8 4.9 2.  1. ]\n",
            " [7.7 2.8 6.7 2.  1. ]\n",
            " [6.3 2.7 4.9 1.8 1. ]\n",
            " [6.7 3.3 5.7 2.1 1. ]\n",
            " [7.2 3.2 6.  1.8 1. ]\n",
            " [6.2 2.8 4.8 1.8 1. ]\n",
            " [6.1 3.  4.9 1.8 1. ]\n",
            " [6.4 2.8 5.6 2.1 1. ]\n",
            " [7.2 3.  5.8 1.6 1. ]\n",
            " [7.4 2.8 6.1 1.9 1. ]\n",
            " [7.9 3.8 6.4 2.  1. ]\n",
            " [6.4 2.8 5.6 2.2 1. ]\n",
            " [6.3 2.8 5.1 1.5 1. ]\n",
            " [6.1 2.6 5.6 1.4 1. ]\n",
            " [7.7 3.  6.1 2.3 1. ]\n",
            " [6.3 3.4 5.6 2.4 1. ]\n",
            " [6.4 3.1 5.5 1.8 1. ]\n",
            " [6.  3.  4.8 1.8 1. ]\n",
            " [6.9 3.1 5.4 2.1 1. ]]\n"
          ],
          "name": "stdout"
        },
        {
          "output_type": "execute_result",
          "data": {
            "text/plain": [
              "80"
            ]
          },
          "metadata": {
            "tags": []
          },
          "execution_count": 12
        }
      ]
    },
    {
      "cell_type": "code",
      "metadata": {
        "colab": {
          "base_uri": "https://localhost:8080/"
        },
        "id": "NajZyXWI4J86",
        "outputId": "661d9388-0c96-441e-8282-9ce5c2168b2e"
      },
      "source": [
        "print(dataTesting)\n",
        "len(dataTesting)"
      ],
      "execution_count": 13,
      "outputs": [
        {
          "output_type": "stream",
          "text": [
            "[[5.  3.5 1.3 0.3 0. ]\n",
            " [4.5 2.3 1.3 0.3 0. ]\n",
            " [4.4 3.2 1.3 0.2 0. ]\n",
            " [5.  3.5 1.6 0.6 0. ]\n",
            " [5.1 3.8 1.9 0.4 0. ]\n",
            " [4.8 3.  1.4 0.3 0. ]\n",
            " [5.1 3.8 1.6 0.2 0. ]\n",
            " [4.6 3.2 1.4 0.2 0. ]\n",
            " [5.3 3.7 1.5 0.2 0. ]\n",
            " [5.  3.3 1.4 0.2 0. ]\n",
            " [6.7 3.1 5.6 2.4 1. ]\n",
            " [6.9 3.1 5.1 2.3 1. ]\n",
            " [5.8 2.7 5.1 1.9 1. ]\n",
            " [6.8 3.2 5.9 2.3 1. ]\n",
            " [6.7 3.3 5.7 2.5 1. ]\n",
            " [6.7 3.  5.2 2.3 1. ]\n",
            " [6.3 2.5 5.  1.9 1. ]\n",
            " [6.5 3.  5.2 2.  1. ]\n",
            " [6.2 3.4 5.4 2.3 1. ]\n",
            " [5.9 3.  5.1 1.8 1. ]]\n"
          ],
          "name": "stdout"
        },
        {
          "output_type": "execute_result",
          "data": {
            "text/plain": [
              "20"
            ]
          },
          "metadata": {
            "tags": []
          },
          "execution_count": 13
        }
      ]
    },
    {
      "cell_type": "code",
      "metadata": {
        "id": "cfEI7Glu4kgM"
      },
      "source": [
        "inputTraining = dataTraining[:,0:4]\n",
        "inputTesting = dataTesting[:,0:4]\n",
        "labelTraining = dataTraining[:,4]\n",
        "labelTesting = dataTesting[:,4]"
      ],
      "execution_count": 14,
      "outputs": []
    },
    {
      "cell_type": "code",
      "metadata": {
        "id": "vI15QLPU4w03"
      },
      "source": [
        "model = tree.DecisionTreeClassifier()"
      ],
      "execution_count": 15,
      "outputs": []
    },
    {
      "cell_type": "code",
      "metadata": {
        "id": "UfDdzGE6400s"
      },
      "source": [
        "model = model.fit(inputTraining, labelTraining)"
      ],
      "execution_count": 16,
      "outputs": []
    },
    {
      "cell_type": "code",
      "metadata": {
        "colab": {
          "base_uri": "https://localhost:8080/"
        },
        "id": "yKnBztmh5Exz",
        "outputId": "be6baeed-1c7c-4948-9785-c591eecee451"
      },
      "source": [
        "hasilPrediksi = model.predict(inputTesting)\n",
        "print(\"label sebenarnya\",labelTesting)\n",
        "print(\"hasil prediksi: \",hasilPrediksi)"
      ],
      "execution_count": 17,
      "outputs": [
        {
          "output_type": "stream",
          "text": [
            "label sebenarnya [0. 0. 0. 0. 0. 0. 0. 0. 0. 0. 1. 1. 1. 1. 1. 1. 1. 1. 1. 1.]\n",
            "hasil prediksi:  [0. 0. 0. 0. 0. 0. 0. 0. 0. 0. 1. 1. 1. 1. 1. 1. 1. 1. 1. 1.]\n"
          ],
          "name": "stdout"
        }
      ]
    },
    {
      "cell_type": "code",
      "metadata": {
        "colab": {
          "base_uri": "https://localhost:8080/"
        },
        "id": "KECJ_Z025T5f",
        "outputId": "db8c28f1-0102-47d4-d292-74d762d7d94c"
      },
      "source": [
        "prediksiBenar = (hasilPrediksi == labelTesting).sum()\n",
        "prediksiSalah = (hasilPrediksi != labelTesting).sum()\n",
        "print(\"Prediksi benar:\",prediksiBenar,\"data\")\n",
        "print(\"Prediksi salah:\",prediksiSalah,\"data\")\n",
        "print(\"akurasi: \",prediksiBenar/(prediksiBenar+prediksiSalah)*100,\"%\")"
      ],
      "execution_count": 18,
      "outputs": [
        {
          "output_type": "stream",
          "text": [
            "Prediksi benar: 20 data\n",
            "Prediksi salah: 0 data\n",
            "akurasi:  100.0 %\n"
          ],
          "name": "stdout"
        }
      ]
    }
  ]
}